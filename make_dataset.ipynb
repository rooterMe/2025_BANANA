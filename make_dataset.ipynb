{
 "cells": [
  {
   "cell_type": "code",
   "execution_count": 19,
   "id": "53ba0f5d",
   "metadata": {},
   "outputs": [
    {
     "name": "stdout",
     "output_type": "stream",
     "text": [
      "모든 이미지가 PNG 형식으로 성공적으로 저장되었습니다.\n"
     ]
    }
   ],
   "source": [
    "import os\n",
    "import cv2\n",
    "\n",
    "# 입력 폴더 경로\n",
    "input_folder = 'Dataset/Not for AI learning'\n",
    "\n",
    "# 출력 폴더 경로\n",
    "output_folder = 'Dataset/banana_4/image'\n",
    "os.makedirs(output_folder, exist_ok=True)\n",
    "\n",
    "# 잘라낼 좌표 설정\n",
    "x1, y1 = 170, 265\n",
    "x2, y2 = 810, 625\n",
    "\n",
    "# 처리 가능한 이미지 확장자\n",
    "image_extensions = ('.png', '.jpg', '.jpeg', '.bmp', '.tif', '.tiff')\n",
    "\n",
    "# 이미지 처리 및 저장\n",
    "for filename in os.listdir(input_folder):\n",
    "    if filename.lower().endswith(image_extensions):\n",
    "        img_path = os.path.join(input_folder, filename)\n",
    "        img = cv2.imread(img_path)\n",
    "\n",
    "        if img is None:\n",
    "            print(f\"이미지를 불러올 수 없습니다: {filename}\")\n",
    "            continue\n",
    "\n",
    "        # 자를 범위 클램핑\n",
    "        height, width = img.shape[:2]\n",
    "        x1_clamped = max(0, min(x1, width))\n",
    "        y1_clamped = max(0, min(y1, height))\n",
    "        x2_clamped = max(0, min(x2, width))\n",
    "        y2_clamped = max(0, min(y2, height))\n",
    "\n",
    "        # 이미지 자르기\n",
    "        cropped = img[y1_clamped:y2_clamped, x1_clamped:x2_clamped]\n",
    "\n",
    "        # .png로 저장 (확장자 제거)\n",
    "        base_name = os.path.splitext(filename)[0]\n",
    "        save_path = os.path.join(output_folder, base_name + '.png')\n",
    "        cv2.imwrite(save_path, cropped)\n",
    "\n",
    "print(\"모든 이미지가 PNG 형식으로 성공적으로 저장되었습니다.\")\n"
   ]
  },
  {
   "cell_type": "code",
   "execution_count": null,
   "id": "1b051112",
   "metadata": {},
   "outputs": [
    {
     "name": "stdout",
     "output_type": "stream",
     "text": [
      "모든 이미지가 640x360으로 리사이즈되었습니다.\n"
     ]
    }
   ],
   "source": [
    "import os\n",
    "import cv2\n",
    "\n",
    "# 입력 폴더 경로\n",
    "image_folder = 'Dataset/banana_4/image'\n",
    "\n",
    "# 출력 크기 설정\n",
    "resize_width = 640\n",
    "resize_height = 360\n",
    "\n",
    "# 이미지 확장자\n",
    "image_extensions = ('.png', '.jpg', '.jpeg', '.bmp', '.tif', '.tiff')\n",
    "\n",
    "# 이미지 처리\n",
    "for filename in os.listdir(image_folder):\n",
    "    if filename.lower().endswith(image_extensions):\n",
    "        img_path = os.path.join(image_folder, filename)\n",
    "        img = cv2.imread(img_path)\n",
    "\n",
    "        if img is None:\n",
    "            print(f\"이미지를 불러올 수 없습니다: {filename}\")\n",
    "            continue\n",
    "\n",
    "        # 이미지 리사이즈\n",
    "        resized_img = cv2.resize(img, (resize_width, resize_height), interpolation=cv2.INTER_AREA)\n",
    "\n",
    "        # 저장 (덮어쓰기)\n",
    "        cv2.imwrite(img_path, resized_img)\n",
    "\n",
    "print(\"모든 이미지가 640x360으로 리사이즈되었습니다.\")\n"
   ]
  },
  {
   "cell_type": "code",
   "execution_count": null,
   "id": "fc175b4d",
   "metadata": {},
   "outputs": [
    {
     "name": "stdout",
     "output_type": "stream",
     "text": [
      "모든 이미지에 흰색 영역을 성공적으로 적용했습니다.\n"
     ]
    }
   ],
   "source": [
    "import os\n",
    "import cv2\n",
    "\n",
    "# 이미지 폴더 경로\n",
    "image_folder = 'Dataset/banana_4/image'\n",
    "\n",
    "# 덮어쓸 영역 좌표\n",
    "x1, y1 = 500, 0\n",
    "x2, y2 = 640, 320\n",
    "\n",
    "# 이미지 확장자\n",
    "image_extensions = ('.png', '.jpg', '.jpeg', '.bmp', '.tif', '.tiff')\n",
    "\n",
    "# 이미지 처리\n",
    "for filename in os.listdir(image_folder):\n",
    "    if filename.lower().endswith(image_extensions):\n",
    "        img_path = os.path.join(image_folder, filename)\n",
    "        img = cv2.imread(img_path)\n",
    "\n",
    "        if img is None:\n",
    "            print(f\"이미지를 불러올 수 없습니다: {filename}\")\n",
    "            continue\n",
    "\n",
    "        # 이미지 크기 확인 및 클램핑\n",
    "        height, width = img.shape[:2]\n",
    "        x2_clamped = min(x2, width)\n",
    "        y2_clamped = min(y2, height)\n",
    "\n",
    "        # 흰색으로 픽셀 덮어쓰기\n",
    "        img[y1:y2_clamped, x1:x2_clamped] = (255, 255, 255)\n",
    "\n",
    "        # 저장 (덮어쓰기)\n",
    "        cv2.imwrite(img_path, img)\n",
    "\n",
    "print(\"모든 이미지에 흰색 영역을 성공적으로 적용했습니다.\")\n"
   ]
  },
  {
   "cell_type": "code",
   "execution_count": 24,
   "id": "d8b040a6",
   "metadata": {},
   "outputs": [
    {
     "name": "stdout",
     "output_type": "stream",
     "text": [
      "모든 이미지에 사각형 흰색 덮어쓰기를 완료했습니다.\n"
     ]
    }
   ],
   "source": [
    "import os\n",
    "import cv2\n",
    "import numpy as np\n",
    "\n",
    "# 이미지 폴더 경로\n",
    "image_folder = 'Dataset/banana_4/image'\n",
    "\n",
    "# 사각형 꼭짓점 좌표 (정수형 NumPy 배열로 변환)\n",
    "#polygon = np.array([[0,328], [292,281], [398,319], [438,314], [444,268], [460,236], [520,237], [573,286], [573,360], [0,360]], np.int32)\n",
    "\n",
    "polygon = np.array([[300,360], [465,200], [515, 135], [570,88], [588,85], [595,50], [550,50], [550,0], [640,0], [640,360]], np.int32)\n",
    "polygon = polygon.reshape((-1, 1, 2))  # OpenCV에 맞는 형태로 reshape\n",
    "\n",
    "# 이미지 확장자\n",
    "image_extensions = ('.png', '.jpg', '.jpeg', '.bmp', '.tif', '.tiff')\n",
    "\n",
    "# 이미지 처리\n",
    "for filename in os.listdir(image_folder):\n",
    "    if filename.lower().endswith(image_extensions):\n",
    "        img_path = os.path.join(image_folder, filename)\n",
    "        img = cv2.imread(img_path)\n",
    "\n",
    "        if img is None:\n",
    "            print(f\"이미지를 불러올 수 없습니다: {filename}\")\n",
    "            continue\n",
    "\n",
    "        # 다각형 채우기 (흰색)\n",
    "        cv2.fillPoly(img, [polygon], color=(255, 255, 255))\n",
    "\n",
    "        # 이미지 저장 (덮어쓰기)\n",
    "        cv2.imwrite(img_path, img)\n",
    "\n",
    "print(\"모든 이미지에 사각형 흰색 덮어쓰기를 완료했습니다.\")\n"
   ]
  }
 ],
 "metadata": {
  "kernelspec": {
   "display_name": "Python 3",
   "language": "python",
   "name": "python3"
  },
  "language_info": {
   "codemirror_mode": {
    "name": "ipython",
    "version": 3
   },
   "file_extension": ".py",
   "mimetype": "text/x-python",
   "name": "python",
   "nbconvert_exporter": "python",
   "pygments_lexer": "ipython3",
   "version": "3.11.4"
  }
 },
 "nbformat": 4,
 "nbformat_minor": 5
}
