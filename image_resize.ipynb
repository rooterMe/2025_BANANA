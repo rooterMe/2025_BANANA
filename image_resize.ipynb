{
 "cells": [
  {
   "cell_type": "code",
   "execution_count": 2,
   "id": "10c461a6",
   "metadata": {},
   "outputs": [
    {
     "name": "stdout",
     "output_type": "stream",
     "text": [
      "모든 이미지가 640x360으로 리사이즈되었습니다.\n"
     ]
    }
   ],
   "source": [
    "import os\n",
    "import cv2\n",
    "\n",
    "# 입력 폴더 경로\n",
    "image_folder = 'Dataset/banana_1/image'\n",
    "\n",
    "# 출력 크기 설정\n",
    "resize_width = 640\n",
    "resize_height = 360\n",
    "\n",
    "# 이미지 확장자\n",
    "image_extensions = ('.png', '.jpg', '.jpeg', '.bmp', '.tif', '.tiff')\n",
    "\n",
    "# 이미지 처리\n",
    "for filename in os.listdir(image_folder):\n",
    "    if filename.lower().endswith(image_extensions):\n",
    "        img_path = os.path.join(image_folder, filename)\n",
    "        img = cv2.imread(img_path)\n",
    "\n",
    "        if img is None:\n",
    "            print(f\"이미지를 불러올 수 없습니다: {filename}\")\n",
    "            continue\n",
    "\n",
    "        # 이미지 리사이즈\n",
    "        resized_img = cv2.resize(img, (resize_width, resize_height), interpolation=cv2.INTER_AREA)\n",
    "\n",
    "        # 저장 (덮어쓰기)\n",
    "        cv2.imwrite(img_path, resized_img)\n",
    "\n",
    "print(\"모든 이미지가 640x360으로 리사이즈되었습니다.\")\n"
   ]
  }
 ],
 "metadata": {
  "kernelspec": {
   "display_name": "Python 3",
   "language": "python",
   "name": "python3"
  },
  "language_info": {
   "codemirror_mode": {
    "name": "ipython",
    "version": 3
   },
   "file_extension": ".py",
   "mimetype": "text/x-python",
   "name": "python",
   "nbconvert_exporter": "python",
   "pygments_lexer": "ipython3",
   "version": "3.11.4"
  }
 },
 "nbformat": 4,
 "nbformat_minor": 5
}
