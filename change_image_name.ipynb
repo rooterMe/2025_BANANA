{
 "cells": [
  {
   "cell_type": "code",
   "execution_count": null,
   "id": "6e7333b4",
   "metadata": {},
   "outputs": [
    {
     "name": "stdout",
     "output_type": "stream",
     "text": [
      "파일 이름이 순차적으로 변경되었습니다.\n"
     ]
    }
   ],
   "source": [
    "import os\n",
    "\n",
    "# 원본 폴더 경로\n",
    "folder_path = 'Dataset/banana_1_seq'\n",
    "\n",
    "# 폴더 안의 파일 리스트 가져오기 (image로 시작하고 .png로 끝나는 파일만)\n",
    "file_list = [f for f in os.listdir(folder_path) if f.startswith(\"image\") and f.endswith(\".png\")]\n",
    "\n",
    "# 숫자 기준 정렬\n",
    "file_list.sort(key=lambda x: int(''.join(filter(str.isdigit, x))))\n",
    "\n",
    "# 순차적으로 이름 변경\n",
    "for idx, filename in enumerate(file_list, start=1):\n",
    "    src = os.path.join(folder_path, filename)\n",
    "    dst = os.path.join(folder_path, f\"{idx}.png\")\n",
    "    os.rename(src, dst)\n",
    "\n",
    "print(\"파일 이름이 순차적으로 변경되었습니다.\")\n"
   ]
  },
  {
   "cell_type": "code",
   "execution_count": 2,
   "id": "3fb0080c",
   "metadata": {},
   "outputs": [
    {
     "name": "stdout",
     "output_type": "stream",
     "text": [
      "최종 파일 목록:\n",
      "['Image1.png', 'Image101.png', 'Image103.png', 'Image105.png', 'Image107.png', 'Image109.png', 'Image11.png', 'Image111.png', 'Image113.png', 'Image115.png', 'Image117.png', 'Image119.png', 'Image121.png', 'Image123.png', 'Image125.png', 'Image127.png', 'Image129.png', 'Image13.png', 'Image131.png', 'Image133.png', 'Image135.png', 'Image137.png', 'Image139.png', 'Image141.png', 'Image143.png', 'Image145.png', 'Image147.png', 'Image149.png', 'Image15.png', 'Image151.png', 'Image153.png', 'Image155.png', 'Image157.png', 'Image159.png', 'Image161.png', 'Image163.png', 'Image165.png', 'Image167.png', 'Image169.png', 'Image17.png', 'Image171.png', 'Image173.png', 'Image175.png', 'Image177.png', 'Image179.png', 'Image181.png', 'Image183.png', 'Image185.png', 'Image187.png', 'Image189.png', 'Image19.png', 'Image191.png', 'Image193.png', 'Image195.png', 'Image197.png', 'Image199.png', 'Image201.png', 'Image203.png', 'Image205.png', 'Image207.png', 'Image209.png', 'Image21.png', 'Image211.png', 'Image213.png', 'Image215.png', 'Image217.png', 'Image219.png', 'Image221.png', 'Image223.png', 'Image225.png', 'Image227.png', 'Image229.png', 'Image23.png', 'Image231.png', 'Image233.png', 'Image235.png', 'Image237.png', 'Image239.png', 'Image241.png', 'Image243.png', 'Image245.png', 'Image247.png', 'Image249.png', 'Image25.png', 'Image251.png', 'Image253.png', 'Image255.png', 'Image257.png', 'Image259.png', 'Image261.png', 'Image263.png', 'Image265.png', 'Image267.png', 'Image269.png', 'Image27.png', 'Image271.png', 'Image273.png', 'Image275.png', 'Image277.png', 'Image279.png', 'Image281.png', 'Image283.png', 'Image285.png', 'Image287.png', 'Image289.png', 'Image29.png', 'Image291.png', 'Image293.png', 'Image295.png', 'Image297.png', 'Image299.png', 'Image3.png', 'Image301.png', 'Image303.png', 'Image305.png', 'Image307.png', 'Image309.png', 'Image31.png', 'Image311.png', 'Image313.png', 'Image315.png', 'Image317.png', 'Image319.png', 'Image321.png', 'Image323.png', 'Image325.png', 'Image327.png', 'Image329.png', 'Image33.png', 'Image331.png', 'Image333.png', 'Image335.png', 'Image337.png', 'Image339.png', 'Image341.png', 'Image343.png', 'Image345.png', 'Image347.png', 'Image349.png', 'Image35.png', 'Image351.png', 'Image353.png', 'Image355.png', 'Image357.png', 'Image359.png', 'Image361.png', 'Image363.png', 'Image365.png', 'Image367.png', 'Image369.png', 'Image37.png', 'Image371.png', 'Image373.png', 'Image375.png', 'Image377.png', 'Image379.png', 'Image381.png', 'Image383.png', 'Image385.png', 'Image387.png', 'Image389.png', 'Image39.png', 'Image391.png', 'Image393.png', 'Image395.png', 'Image397.png', 'Image399.png', 'Image401.png', 'Image403.png', 'Image405.png', 'Image407.png', 'Image409.png', 'Image41.png', 'Image411.png', 'Image413.png', 'Image415.png', 'Image417.png', 'Image419.png', 'Image421.png', 'Image423.png', 'Image425.png', 'Image427.png', 'Image429.png', 'Image43.png', 'Image431.png', 'Image433.png', 'Image435.png', 'Image437.png', 'Image439.png', 'Image441.png', 'Image443.png', 'Image445.png', 'Image447.png', 'Image449.png', 'Image45.png', 'Image451.png', 'Image453.png', 'Image455.png', 'Image457.png', 'Image459.png', 'Image461.png', 'Image463.png', 'Image465.png', 'Image467.png', 'Image469.png', 'Image47.png', 'Image471.png', 'Image473.png', 'Image475.png', 'Image477.png', 'Image479.png', 'Image481.png', 'Image483.png', 'Image485.png', 'Image487.png', 'Image489.png', 'Image49.png', 'Image491.png', 'Image493.png', 'Image495.png', 'Image497.png', 'Image499.png', 'Image5.png', 'Image501.png', 'Image503.png', 'Image505.png', 'Image507.png', 'Image509.png', 'Image51.png', 'Image511.png', 'Image513.png', 'Image515.png', 'Image517.png', 'Image519.png', 'Image521.png', 'Image523.png', 'Image525.png', 'Image527.png', 'Image529.png', 'Image53.png', 'Image531.png', 'Image533.png', 'Image535.png', 'Image537.png', 'Image539.png', 'Image541.png', 'Image543.png', 'Image545.png', 'Image547.png', 'Image549.png', 'Image55.png', 'Image551.png', 'Image553.png', 'Image555.png', 'Image557.png', 'Image559.png', 'Image561.png', 'Image563.png', 'Image565.png', 'Image567.png', 'Image569.png', 'Image57.png', 'Image571.png', 'Image573.png', 'Image575.png', 'Image577.png', 'Image579.png', 'Image581.png', 'Image583.png', 'Image585.png', 'Image587.png', 'Image589.png', 'Image59.png', 'Image591.png', 'Image593.png', 'Image595.png', 'Image597.png', 'Image599.png', 'Image601.png', 'Image603.png', 'Image605.png', 'Image607.png', 'Image609.png', 'Image61.png', 'Image611.png', 'Image613.png', 'Image615.png', 'Image617.png', 'Image619.png', 'Image621.png', 'Image623.png', 'Image625.png', 'Image627.png', 'Image629.png', 'Image63.png', 'Image631.png', 'Image633.png', 'Image635.png', 'Image637.png', 'Image639.png', 'Image641.png', 'Image643.png', 'Image645.png', 'Image647.png', 'Image649.png', 'Image65.png', 'Image651.png', 'Image653.png', 'Image655.png', 'Image657.png', 'Image659.png', 'Image661.png', 'Image663.png', 'Image665.png', 'Image667.png', 'Image669.png', 'Image67.png', 'Image671.png', 'Image673.png', 'Image675.png', 'Image677.png', 'Image679.png', 'Image681.png', 'Image683.png', 'Image685.png', 'Image687.png', 'Image689.png', 'Image69.png', 'Image691.png', 'Image693.png', 'Image695.png', 'Image697.png', 'Image699.png', 'Image7.png', 'Image701.png', 'Image703.png', 'Image705.png', 'Image707.png', 'Image709.png', 'Image71.png', 'Image711.png', 'Image713.png', 'Image715.png', 'Image717.png', 'Image719.png', 'Image721.png', 'Image723.png', 'Image725.png', 'Image727.png', 'Image729.png', 'Image73.png', 'Image731.png', 'Image733.png', 'Image735.png', 'Image737.png', 'Image739.png', 'Image741.png', 'Image743.png', 'Image745.png', 'Image747.png', 'Image749.png', 'Image75.png', 'Image751.png', 'Image753.png', 'Image755.png', 'Image757.png', 'Image759.png', 'Image761.png', 'Image763.png', 'Image765.png', 'Image767.png', 'Image769.png', 'Image77.png', 'Image771.png', 'Image773.png', 'Image775.png', 'Image777.png', 'Image779.png', 'Image781.png', 'Image783.png', 'Image785.png', 'Image787.png', 'Image789.png', 'Image79.png', 'Image791.png', 'Image793.png', 'Image795.png', 'Image797.png', 'Image799.png', 'Image81.png', 'Image83.png', 'Image85.png', 'Image87.png', 'Image89.png', 'Image9.png', 'Image91.png', 'Image93.png', 'Image95.png', 'Image97.png', 'Image99.png']\n"
     ]
    }
   ],
   "source": [
    "print(\"최종 파일 목록:\")\n",
    "print(sorted(os.listdir(folder_path)))\n"
   ]
  },
  {
   "cell_type": "code",
   "execution_count": 3,
   "id": "7315b9b2",
   "metadata": {},
   "outputs": [
    {
     "name": "stdout",
     "output_type": "stream",
     "text": [
      "['Image1.png', 'Image101.png', 'Image103.png', 'Image105.png', 'Image107.png', 'Image109.png', 'Image11.png', 'Image111.png', 'Image113.png', 'Image115.png', 'Image117.png', 'Image119.png', 'Image121.png', 'Image123.png', 'Image125.png', 'Image127.png', 'Image129.png', 'Image13.png', 'Image131.png', 'Image133.png', 'Image135.png', 'Image137.png', 'Image139.png', 'Image141.png', 'Image143.png', 'Image145.png', 'Image147.png', 'Image149.png', 'Image15.png', 'Image151.png', 'Image153.png', 'Image155.png', 'Image157.png', 'Image159.png', 'Image161.png', 'Image163.png', 'Image165.png', 'Image167.png', 'Image169.png', 'Image17.png', 'Image171.png', 'Image173.png', 'Image175.png', 'Image177.png', 'Image179.png', 'Image181.png', 'Image183.png', 'Image185.png', 'Image187.png', 'Image189.png', 'Image19.png', 'Image191.png', 'Image193.png', 'Image195.png', 'Image197.png', 'Image199.png', 'Image201.png', 'Image203.png', 'Image205.png', 'Image207.png', 'Image209.png', 'Image21.png', 'Image211.png', 'Image213.png', 'Image215.png', 'Image217.png', 'Image219.png', 'Image221.png', 'Image223.png', 'Image225.png', 'Image227.png', 'Image229.png', 'Image23.png', 'Image231.png', 'Image233.png', 'Image235.png', 'Image237.png', 'Image239.png', 'Image241.png', 'Image243.png', 'Image245.png', 'Image247.png', 'Image249.png', 'Image25.png', 'Image251.png', 'Image253.png', 'Image255.png', 'Image257.png', 'Image259.png', 'Image261.png', 'Image263.png', 'Image265.png', 'Image267.png', 'Image269.png', 'Image27.png', 'Image271.png', 'Image273.png', 'Image275.png', 'Image277.png', 'Image279.png', 'Image281.png', 'Image283.png', 'Image285.png', 'Image287.png', 'Image289.png', 'Image29.png', 'Image291.png', 'Image293.png', 'Image295.png', 'Image297.png', 'Image299.png', 'Image3.png', 'Image301.png', 'Image303.png', 'Image305.png', 'Image307.png', 'Image309.png', 'Image31.png', 'Image311.png', 'Image313.png', 'Image315.png', 'Image317.png', 'Image319.png', 'Image321.png', 'Image323.png', 'Image325.png', 'Image327.png', 'Image329.png', 'Image33.png', 'Image331.png', 'Image333.png', 'Image335.png', 'Image337.png', 'Image339.png', 'Image341.png', 'Image343.png', 'Image345.png', 'Image347.png', 'Image349.png', 'Image35.png', 'Image351.png', 'Image353.png', 'Image355.png', 'Image357.png', 'Image359.png', 'Image361.png', 'Image363.png', 'Image365.png', 'Image367.png', 'Image369.png', 'Image37.png', 'Image371.png', 'Image373.png', 'Image375.png', 'Image377.png', 'Image379.png', 'Image381.png', 'Image383.png', 'Image385.png', 'Image387.png', 'Image389.png', 'Image39.png', 'Image391.png', 'Image393.png', 'Image395.png', 'Image397.png', 'Image399.png', 'Image401.png', 'Image403.png', 'Image405.png', 'Image407.png', 'Image409.png', 'Image41.png', 'Image411.png', 'Image413.png', 'Image415.png', 'Image417.png', 'Image419.png', 'Image421.png', 'Image423.png', 'Image425.png', 'Image427.png', 'Image429.png', 'Image43.png', 'Image431.png', 'Image433.png', 'Image435.png', 'Image437.png', 'Image439.png', 'Image441.png', 'Image443.png', 'Image445.png', 'Image447.png', 'Image449.png', 'Image45.png', 'Image451.png', 'Image453.png', 'Image455.png', 'Image457.png', 'Image459.png', 'Image461.png', 'Image463.png', 'Image465.png', 'Image467.png', 'Image469.png', 'Image47.png', 'Image471.png', 'Image473.png', 'Image475.png', 'Image477.png', 'Image479.png', 'Image481.png', 'Image483.png', 'Image485.png', 'Image487.png', 'Image489.png', 'Image49.png', 'Image491.png', 'Image493.png', 'Image495.png', 'Image497.png', 'Image499.png', 'Image5.png', 'Image501.png', 'Image503.png', 'Image505.png', 'Image507.png', 'Image509.png', 'Image51.png', 'Image511.png', 'Image513.png', 'Image515.png', 'Image517.png', 'Image519.png', 'Image521.png', 'Image523.png', 'Image525.png', 'Image527.png', 'Image529.png', 'Image53.png', 'Image531.png', 'Image533.png', 'Image535.png', 'Image537.png', 'Image539.png', 'Image541.png', 'Image543.png', 'Image545.png', 'Image547.png', 'Image549.png', 'Image55.png', 'Image551.png', 'Image553.png', 'Image555.png', 'Image557.png', 'Image559.png', 'Image561.png', 'Image563.png', 'Image565.png', 'Image567.png', 'Image569.png', 'Image57.png', 'Image571.png', 'Image573.png', 'Image575.png', 'Image577.png', 'Image579.png', 'Image581.png', 'Image583.png', 'Image585.png', 'Image587.png', 'Image589.png', 'Image59.png', 'Image591.png', 'Image593.png', 'Image595.png', 'Image597.png', 'Image599.png', 'Image601.png', 'Image603.png', 'Image605.png', 'Image607.png', 'Image609.png', 'Image61.png', 'Image611.png', 'Image613.png', 'Image615.png', 'Image617.png', 'Image619.png', 'Image621.png', 'Image623.png', 'Image625.png', 'Image627.png', 'Image629.png', 'Image63.png', 'Image631.png', 'Image633.png', 'Image635.png', 'Image637.png', 'Image639.png', 'Image641.png', 'Image643.png', 'Image645.png', 'Image647.png', 'Image649.png', 'Image65.png', 'Image651.png', 'Image653.png', 'Image655.png', 'Image657.png', 'Image659.png', 'Image661.png', 'Image663.png', 'Image665.png', 'Image667.png', 'Image669.png', 'Image67.png', 'Image671.png', 'Image673.png', 'Image675.png', 'Image677.png', 'Image679.png', 'Image681.png', 'Image683.png', 'Image685.png', 'Image687.png', 'Image689.png', 'Image69.png', 'Image691.png', 'Image693.png', 'Image695.png', 'Image697.png', 'Image699.png', 'Image7.png', 'Image701.png', 'Image703.png', 'Image705.png', 'Image707.png', 'Image709.png', 'Image71.png', 'Image711.png', 'Image713.png', 'Image715.png', 'Image717.png', 'Image719.png', 'Image721.png', 'Image723.png', 'Image725.png', 'Image727.png', 'Image729.png', 'Image73.png', 'Image731.png', 'Image733.png', 'Image735.png', 'Image737.png', 'Image739.png', 'Image741.png', 'Image743.png', 'Image745.png', 'Image747.png', 'Image749.png', 'Image75.png', 'Image751.png', 'Image753.png', 'Image755.png', 'Image757.png', 'Image759.png', 'Image761.png', 'Image763.png', 'Image765.png', 'Image767.png', 'Image769.png', 'Image77.png', 'Image771.png', 'Image773.png', 'Image775.png', 'Image777.png', 'Image779.png', 'Image781.png', 'Image783.png', 'Image785.png', 'Image787.png', 'Image789.png', 'Image79.png', 'Image791.png', 'Image793.png', 'Image795.png', 'Image797.png', 'Image799.png', 'Image81.png', 'Image83.png', 'Image85.png', 'Image87.png', 'Image89.png', 'Image9.png', 'Image91.png', 'Image93.png', 'Image95.png', 'Image97.png', 'Image99.png']\n"
     ]
    }
   ],
   "source": [
    "file_list = os.listdir(folder_path)\n",
    "print(file_list)"
   ]
  },
  {
   "cell_type": "code",
   "execution_count": 3,
   "id": "156f6faf",
   "metadata": {},
   "outputs": [
    {
     "name": "stdout",
     "output_type": "stream",
     "text": [
      "이름 변경이 완료되었습니다.\n"
     ]
    }
   ],
   "source": [
    "import os\n",
    "import re\n",
    "\n",
    "# 대상 폴더 경로\n",
    "folder_path = 'Dataset/banana_0_seq'\n",
    "\n",
    "# 숫자 추출 함수\n",
    "def extract_number(filename):\n",
    "    match = re.search(r'\\d+', filename)\n",
    "    return int(match.group()) if match else -1\n",
    "\n",
    "# 폴더 내 이미지 파일만 추출\n",
    "file_list = [f for f in os.listdir(folder_path) if f.lower().endswith(('.png', '.jpg', '.jpeg'))]\n",
    "\n",
    "# 파일명에서 숫자를 추출해 정렬\n",
    "sorted_files = sorted(file_list, key=extract_number)\n",
    "\n",
    "# 파일 이름 변경 (001.png, 002.png, ...)\n",
    "for idx, filename in enumerate(sorted_files, start=1):\n",
    "    old_path = os.path.join(folder_path, filename)\n",
    "    new_filename = f'{idx:03d}.png'  # 앞자리를 0으로 채워 3자리로 만들기\n",
    "    new_path = os.path.join(folder_path, new_filename)\n",
    "    os.rename(old_path, new_path)\n",
    "\n",
    "print(\"이름 변경이 완료되었습니다.\")\n"
   ]
  },
  {
   "cell_type": "code",
   "execution_count": 5,
   "id": "8f81349f",
   "metadata": {},
   "outputs": [
    {
     "name": "stdout",
     "output_type": "stream",
     "text": [
      "텍스트 파일 이름 변경이 완료되었습니다.\n"
     ]
    }
   ],
   "source": [
    "import os\n",
    "import re\n",
    "\n",
    "# 대상 폴더 경로\n",
    "folder_path = 'Dataset/banana_0_label'\n",
    "\n",
    "# 숫자 추출 함수\n",
    "def extract_number(filename):\n",
    "    match = re.search(r'\\d+', filename)\n",
    "    return int(match.group()) if match else -1\n",
    "\n",
    "# 폴더 내 텍스트 파일만 추출\n",
    "file_list = [f for f in os.listdir(folder_path) if f.lower().endswith('.txt')]\n",
    "\n",
    "# 파일명에서 숫자를 추출해 정렬\n",
    "sorted_files = sorted(file_list, key=extract_number)\n",
    "\n",
    "# 파일 이름 변경 (001.txt, 002.txt, ...)\n",
    "for idx, filename in enumerate(sorted_files, start=1):\n",
    "    old_path = os.path.join(folder_path, filename)\n",
    "    new_filename = f'{idx:03d}.txt'  # 세 자리 숫자로 포맷\n",
    "    new_path = os.path.join(folder_path, new_filename)\n",
    "    os.rename(old_path, new_path)\n",
    "\n",
    "print(\"텍스트 파일 이름 변경이 완료되었습니다.\")\n"
   ]
  }
 ],
 "metadata": {
  "kernelspec": {
   "display_name": "Python 3",
   "language": "python",
   "name": "python3"
  },
  "language_info": {
   "codemirror_mode": {
    "name": "ipython",
    "version": 3
   },
   "file_extension": ".py",
   "mimetype": "text/x-python",
   "name": "python",
   "nbconvert_exporter": "python",
   "pygments_lexer": "ipython3",
   "version": "3.11.4"
  }
 },
 "nbformat": 4,
 "nbformat_minor": 5
}
